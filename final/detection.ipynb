{
 "cells": [
  {
   "cell_type": "code",
   "execution_count": 23,
   "id": "77689236",
   "metadata": {
    "scrolled": true
   },
   "outputs": [
    {
     "name": "stdout",
     "output_type": "stream",
     "text": [
      "C:\\Users\\METE\\Desktop\\tfod_steel\\workspace\\training_demo\n"
     ]
    }
   ],
   "source": [
    "import os\n",
    "os.environ['TF_CPP_MIN_LOG_LEVEL'] = '2'    # Suppress TensorFlow logging (1)\n",
    "import pathlib\n",
    "import tensorflow as tf\n",
    "\n",
    "tf.get_logger().setLevel('ERROR')           # Suppress TensorFlow logging (2)\n",
    "\n",
    "# Enable GPU dynamic memory allocation\n",
    "gpus = tf.config.experimental.list_physical_devices('GPU')\n",
    "for gpu in gpus:\n",
    "    tf.config.experimental.set_memory_growth(gpu, True)\n",
    "main_path=os.getcwd()\n",
    "print(main_path)"
   ]
  },
  {
   "cell_type": "code",
   "execution_count": 24,
   "id": "735bac0f",
   "metadata": {},
   "outputs": [
    {
     "name": "stdout",
     "output_type": "stream",
     "text": [
      "['C:\\\\Users\\\\METE\\\\Desktop\\\\img_annotation\\\\7.png']\n"
     ]
    }
   ],
   "source": [
    "image_paths = []\n",
    "for image_name in os.listdir(\"C:\\\\Users\\\\METE\\\\Desktop\\\\img_annotation\"):\n",
    "    image_paths.append(os.path.join(\"C:\\\\Users\\\\METE\\\\Desktop\\\\img_annotation\", image_name))\n",
    "print(image_paths)"
   ]
  },
  {
   "cell_type": "code",
   "execution_count": 25,
   "id": "3db32587",
   "metadata": {},
   "outputs": [],
   "source": [
    "MODEL_DATE = '20221206'\n",
    "MODEL_NAME = 'my_resnet'\n",
    "LABEL_FILENAME = 'label_map.pbtxt'\n",
    "PATH_TO_LABELS = os.path.join(main_path, \"annotations\", LABEL_FILENAME)\n",
    "PATH_TO_MODEL_DIR = os.path.join(main_path, \"models\")\n",
    "PATH_TO_CFG = os.path.join(PATH_TO_MODEL_DIR, \"my_resnet\", \"pipeline.config\" )\n",
    "PATH_TO_CKPT = os.path.join(PATH_TO_MODEL_DIR, \"my_resnet\")"
   ]
  },
  {
   "cell_type": "code",
   "execution_count": 26,
   "id": "27a946c7",
   "metadata": {},
   "outputs": [
    {
     "name": "stdout",
     "output_type": "stream",
     "text": [
      "Loading model... Done! Took 0.25800061225891113 seconds\n"
     ]
    }
   ],
   "source": [
    "import time\n",
    "from object_detection.utils import label_map_util\n",
    "from object_detection.utils import config_util\n",
    "from object_detection.utils import visualization_utils as viz_utils\n",
    "from object_detection.builders import model_builder\n",
    "\n",
    "\n",
    "print('Loading model... ', end='')\n",
    "start_time = time.time()\n",
    "\n",
    "# Load pipeline config and build a detection model\n",
    "configs = config_util.get_configs_from_pipeline_file(PATH_TO_CFG)\n",
    "model_config = configs['model']\n",
    "detection_model = model_builder.build(model_config=model_config, is_training=False)\n",
    "\n",
    "# Restore checkpoint\n",
    "ckpt = tf.compat.v2.train.Checkpoint(model=detection_model)\n",
    "ckpt.restore(os.path.join(PATH_TO_CKPT, 'ckpt-3')).expect_partial()\n",
    "\n",
    "@tf.function\n",
    "def detect_fn(image):\n",
    "    \"\"\"Detect objects in image.\"\"\"\n",
    "\n",
    "    image, shapes = detection_model.preprocess(image)\n",
    "    prediction_dict = detection_model.predict(image, shapes)\n",
    "    detections = detection_model.postprocess(prediction_dict, shapes)\n",
    "\n",
    "    return detections\n",
    "\n",
    "end_time = time.time()\n",
    "elapsed_time = end_time - start_time\n",
    "print('Done! Took {} seconds'.format(elapsed_time))"
   ]
  },
  {
   "cell_type": "code",
   "execution_count": 27,
   "id": "10f0bc1a",
   "metadata": {},
   "outputs": [],
   "source": [
    "category_index = label_map_util.create_category_index_from_labelmap(PATH_TO_LABELS,\n",
    "                                                                    use_display_name=True)"
   ]
  },
  {
   "cell_type": "code",
   "execution_count": 28,
   "id": "239ec0f7",
   "metadata": {},
   "outputs": [],
   "source": [
    "%matplotlib inline\n",
    "import numpy as np\n",
    "from PIL import Image\n",
    "import matplotlib.pyplot as plt\n",
    "import warnings\n",
    "warnings.filterwarnings('ignore')   # Suppress Matplotlib warnings"
   ]
  },
  {
   "cell_type": "code",
   "execution_count": 29,
   "id": "9d941322",
   "metadata": {},
   "outputs": [],
   "source": [
    "def load_image_into_numpy_array(path):\n",
    "    \"\"\"Load an image from file into a numpy array.\n",
    "\n",
    "    Puts image into numpy array to feed into tensorflow graph.\n",
    "    Note that by convention we put it into a numpy array with shape\n",
    "    (height, width, channels), where channels=3 for RGB.\n",
    "\n",
    "    Args:\n",
    "      path: the file path to the image\n",
    "\n",
    "    Returns:\n",
    "      uint8 numpy array with shape (img_height, img_width, 3)\n",
    "    \"\"\"\n",
    "    return np.array(Image.open(path))"
   ]
  },
  {
   "cell_type": "code",
   "execution_count": 30,
   "id": "709da522",
   "metadata": {
    "scrolled": false
   },
   "outputs": [
    {
     "name": "stdout",
     "output_type": "stream",
     "text": [
      "Running inference for C:\\Users\\METE\\Desktop\\img_annotation\\7.png... Done\n"
     ]
    },
    {
     "data": {
      "image/png": "[encoded data removed]",
      "text/plain": [
       "<Figure size 640x480 with 1 Axes>"
      ]
     },
     "metadata": {},
     "output_type": "display_data"
    }
   ],
   "source": [
    "for image_path in image_paths:\n",
    "\n",
    "    print('Running inference for {}... '.format(image_path), end='')\n",
    "\n",
    "    image_np = load_image_into_numpy_array(image_path)\n",
    "    img_height, img_width = image_np.shape[0], image_np.shape[1]\n",
    "\n",
    "    # Things to try:\n",
    "    # Flip horizontally\n",
    "    # image_np = np.fliplr(image_np).copy()\n",
    "\n",
    "    # Convert image to grayscale\n",
    "    # image_np = np.tile(\n",
    "    #     np.mean(image_np, 2, keepdims=True), (1, 1, 3)).astype(np.uint8)\n",
    "\n",
    "    input_tensor = tf.convert_to_tensor(np.expand_dims(image_np, 0), dtype=tf.float32)\n",
    "\n",
    "    detections = detect_fn(input_tensor)\n",
    "\n",
    "    # All outputs are batches tensors.\n",
    "    # Convert to numpy arrays, and take index [0] to remove the batch dimension.\n",
    "    # We're only interested in the first num_detections.\n",
    "    num_detections = int(detections.pop('num_detections'))\n",
    "    detections = {key: value[0, :num_detections].numpy()\n",
    "                  for key, value in detections.items()}\n",
    "    detections['num_detections'] = num_detections\n",
    "\n",
    "    # detection_classes should be ints.\n",
    "    detections['detection_classes'] = detections['detection_classes'].astype(np.int64)\n",
    "\n",
    "    label_id_offset = 1\n",
    "    image_np_with_detections = image_np.copy()\n",
    "\n",
    "    viz_utils.visualize_boxes_and_labels_on_image_array(\n",
    "            image_np_with_detections,\n",
    "            detections['detection_boxes'],\n",
    "            detections['detection_classes']+label_id_offset,\n",
    "            detections['detection_scores'],\n",
    "            category_index,\n",
    "            use_normalized_coordinates=True,\n",
    "            max_boxes_to_draw=200,\n",
    "            min_score_thresh=0.3,\n",
    "            agnostic_mode=False)\n",
    "\n",
    "    plt.figure()\n",
    "    plt.imshow(image_np_with_detections)\n",
    "    print('Done')\n",
    "plt.show()"
   ]
  },
  {
   "cell_type": "markdown",
   "id": "1925e112",
   "metadata": {},
   "source": []
  },
  {
   "cell_type": "code",
   "execution_count": 31,
   "id": "2cfc4a8e",
   "metadata": {},
   "outputs": [
    {
     "name": "stdout",
     "output_type": "stream",
     "text": [
      "[9.99875903e-01 2.78691333e-02 7.32026063e-03 4.80487543e-05\n",
      " 4.00727622e-05 1.38293826e-05 1.30853095e-05 1.29642285e-05\n",
      " 1.23533546e-05 1.20001714e-05 1.18489834e-05 1.17800755e-05\n",
      " 1.15538160e-05 1.14815257e-05 1.09828879e-05 9.34388117e-06\n",
      " 8.19811521e-06 8.12732924e-06 8.05817581e-06 8.01275382e-06\n",
      " 7.66257017e-06 7.58265423e-06 6.47852676e-06 6.15030785e-06\n",
      " 6.02872979e-06 5.50417280e-06 5.26766962e-06 5.13447367e-06\n",
      " 4.93179550e-06 4.67257360e-06 4.35413995e-06 4.30737100e-06\n",
      " 4.21178493e-06 4.14526994e-06 3.85908925e-06 3.84918985e-06\n",
      " 3.71036595e-06 3.68388237e-06 3.64223638e-06 3.60323429e-06\n",
      " 3.44346586e-06 3.44044588e-06 3.43851320e-06 3.43129000e-06\n",
      " 3.40724682e-06 3.38794848e-06 3.33456796e-06 3.29074783e-06\n",
      " 3.22772394e-06 3.19801484e-06 3.18249681e-06 3.16320848e-06\n",
      " 3.16125693e-06 3.11603640e-06 3.00649708e-06 2.98799614e-06\n",
      " 2.98253303e-06 2.97690485e-06 2.97071847e-06 2.86985346e-06\n",
      " 2.83788972e-06 2.69079487e-06 2.65827407e-06 2.54675683e-06\n",
      " 2.53569169e-06 2.40988902e-06 2.39149290e-06 2.35740231e-06\n",
      " 2.34024105e-06 2.27567580e-06 2.27181340e-06 2.25665099e-06\n",
      " 2.21603386e-06 2.21083064e-06 2.18683317e-06 2.15342948e-06\n",
      " 2.09677410e-06 2.08341567e-06 2.07600374e-06 2.05478545e-06\n",
      " 2.05144192e-06 2.02087904e-06 2.00912723e-06 2.00480486e-06\n",
      " 1.99410579e-06 1.96155906e-06 1.96058818e-06 1.93879873e-06\n",
      " 1.92533889e-06 1.87606838e-06 1.85444253e-06 1.84341229e-06\n",
      " 1.84016437e-06 1.78123389e-06 1.76958338e-06 1.76850313e-06\n",
      " 1.75541004e-06 1.75390630e-06 1.74821844e-06 1.71289844e-06\n",
      " 1.70777241e-06 1.68486156e-06 1.68420866e-06 1.68109227e-06\n",
      " 1.66855352e-06 1.61195658e-06 1.61109881e-06 1.57983777e-06\n",
      " 1.56178351e-06 1.47948981e-06 1.44386695e-06 1.44261128e-06\n",
      " 1.43889997e-06 1.33725530e-06 1.33482899e-06 1.31748493e-06\n",
      " 1.30763863e-06 1.27622639e-06 1.27064686e-06 1.26200132e-06\n",
      " 1.25956637e-06 1.23508107e-06 1.23407062e-06 1.20999562e-06\n",
      " 1.20195557e-06 1.18648495e-06 1.17629168e-06 1.16992840e-06\n",
      " 1.16893148e-06 1.16758758e-06 1.14891816e-06 1.12882992e-06\n",
      " 1.12141356e-06 1.11583392e-06 1.11402676e-06 1.09108316e-06\n",
      " 1.07327890e-06 1.04437765e-06 1.01636260e-06 1.01408955e-06\n",
      " 9.68740892e-07 9.60558168e-07 9.59658450e-07 9.50169749e-07\n",
      " 9.34496427e-07 9.12309076e-07 8.90264857e-07 8.83522546e-07\n",
      " 8.66047515e-07 8.57738200e-07 8.57510486e-07 8.48566629e-07\n",
      " 8.45631689e-07 8.18948820e-07 8.16882391e-07 8.11386940e-07\n",
      " 8.09070571e-07 7.94239327e-07 7.77784692e-07 7.74803425e-07\n",
      " 7.71712791e-07 7.70097529e-07 7.67392976e-07 7.67223696e-07\n",
      " 7.65698246e-07 7.53108282e-07 7.41793826e-07 7.36894037e-07\n",
      " 7.32559386e-07 6.97291512e-07 6.75203523e-07 6.71853513e-07\n",
      " 6.65834420e-07 6.62773800e-07 6.61666036e-07 6.46368676e-07\n",
      " 6.45730438e-07 6.37861490e-07 6.27438453e-07 6.21919355e-07\n",
      " 6.16904572e-07 6.13784550e-07 5.93615084e-07 5.91739649e-07\n",
      " 5.86695421e-07 5.79349035e-07 5.78182210e-07 5.73877514e-07\n",
      " 5.70476175e-07 5.64027800e-07 5.61095703e-07 5.57130534e-07\n",
      " 5.51642813e-07 5.45189437e-07 5.44941656e-07 5.21353911e-07\n",
      " 5.20146500e-07 5.18240824e-07 5.13417945e-07 5.09385586e-07\n",
      " 5.09002575e-07 5.08341259e-07 5.00348165e-07 4.95671316e-07\n",
      " 4.94326343e-07 4.69735454e-07 4.69400703e-07 4.67689716e-07\n",
      " 4.66887855e-07 4.66108162e-07 4.50726191e-07 4.40814546e-07\n",
      " 4.39437372e-07 4.39072068e-07 4.34877791e-07 4.31884985e-07\n",
      " 4.31662329e-07 4.26573081e-07 4.25270429e-07 4.19433746e-07\n",
      " 4.00493320e-07 3.83254843e-07 3.73291641e-07 3.43087834e-07\n",
      " 3.17722140e-07 2.83283271e-07 2.70004449e-07 2.66048175e-07\n",
      " 2.45016622e-07 2.14531610e-07 2.08893653e-07 2.01694888e-07\n",
      " 1.63522472e-07 1.57712876e-07 1.54849943e-07 1.30966953e-07\n",
      " 1.24765251e-07 1.21795608e-07 1.15645143e-07 1.14593838e-07\n",
      " 1.06933356e-07 1.06492109e-07 1.05306036e-07 1.03289715e-07\n",
      " 9.77815446e-08 9.71609992e-08 9.69357004e-08 9.46562366e-08\n",
      " 9.42059799e-08 9.25583095e-08 9.04655764e-08 8.83391209e-08\n",
      " 8.59960210e-08 8.36909351e-08 8.32966265e-08 8.29486169e-08\n",
      " 7.93136579e-08 7.76346383e-08 7.55706964e-08 7.32270493e-08\n",
      " 7.20765101e-08 7.06219154e-08 7.05745151e-08 7.00402651e-08\n",
      " 6.75611247e-08 6.56206183e-08 6.42643414e-08 6.16986497e-08\n",
      " 6.11319351e-08 5.72244296e-08 5.55939899e-08 5.54647706e-08\n",
      " 5.52250441e-08 5.46764731e-08 5.46589547e-08 5.14379082e-08\n",
      " 4.90378511e-08 4.88450880e-08 4.88212422e-08 4.85187108e-08\n",
      " 4.84792118e-08 4.84378049e-08 4.80187978e-08 4.77328896e-08\n",
      " 4.71598725e-08 4.67764494e-08 4.42900081e-08 4.39362893e-08\n",
      " 4.28520863e-08 4.21149728e-08 4.20836450e-08 3.86424475e-08\n",
      " 3.59282204e-08 3.48412250e-08 3.04887422e-08 2.87297208e-08\n",
      " 2.83762756e-08 2.73928720e-08 2.67726623e-08 2.65331721e-08]\n",
      "This box is gonna get used [0.06035333 0.19535685 0.86664754 0.78531915] 2\n"
     ]
    }
   ],
   "source": [
    "boxes = detections['detection_boxes']\n",
    "# get all boxes from an array\n",
    "max_boxes_to_draw = boxes.shape[0]\n",
    "# get scores to get a threshold\n",
    "scores = detections['detection_scores']\n",
    "print(scores)\n",
    "# this is set as a default but feel free to adjust it to your needs\n",
    "min_score_thresh=.5\n",
    "# iterate over all objects found\n",
    "for i in range(min(max_boxes_to_draw, boxes.shape[0])):\n",
    "    if scores is None or scores[i] > min_score_thresh:\n",
    "        # boxes[i] is the box which will be drawn\n",
    "        class_name = category_index[detections['detection_classes'][i+1]]['name']\n",
    "        print (\"This box is gonna get used\", boxes[i], detections['detection_classes'][i+1])"
   ]
  },
  {
   "cell_type": "code",
   "execution_count": 32,
   "id": "d4a18df9",
   "metadata": {},
   "outputs": [
    {
     "name": "stdout",
     "output_type": "stream",
     "text": [
      "35.78952323272824 85.76165533065796 513.921992123127 344.75510662794113\n"
     ]
    }
   ],
   "source": [
    "top_y = boxes[0][0]*img_height\n",
    "left_x = boxes[0][1]*img_width\n",
    "bottom_y = boxes[0][2]*img_height\n",
    "right_x = boxes[0][3]*img_width\n",
    "print(top_y, left_x, bottom_y, right_x)"
   ]
  },
  {
   "cell_type": "code",
   "execution_count": 33,
   "id": "79b2fa75",
   "metadata": {},
   "outputs": [
    {
     "data": {
      "text/plain": [
       "<matplotlib.image.AxesImage at 0x1ed73d6f430>"
      ]
     },
     "execution_count": 33,
     "metadata": {},
     "output_type": "execute_result"
    },
    {
     "data": {
      "image/png": "[encoded data removed]",
      "text/plain": [
       "<Figure size 640x480 with 1 Axes>"
      ]
     },
     "metadata": {},
     "output_type": "display_data"
    }
   ],
   "source": [
    "import cv2\n",
    "import math\n",
    "image_path = image_paths[0]\n",
    "img = cv2.imread(image_path)\n",
    "extra_pixels = 5\n",
    "y_top = int(top_y)-extra_pixels\n",
    "y_bottom = int(bottom_y)+extra_pixels\n",
    "x_left = int(left_x) - extra_pixels\n",
    "x_right = int(right_x) + extra_pixels\n",
    "roi = img[y_top:y_bottom,x_left:x_right]\n",
    "\n",
    "\"\"\"\n",
    "roi_y = [int(top_y)-extra_pixels:int(bottom_y)+extra_pixels]\n",
    "roi_x = [int(left_x)-extra_pixels:int(right_x)+extra_pixels]\n",
    "roi = img[roi_y,roi_x]\n",
    "\"\"\"\n",
    "\n",
    "\n",
    "#Hough Line\n",
    "dst = cv2.Canny(roi, 50, 200, None, 3)\n",
    "cdst = cv2.cvtColor(dst, cv2.COLOR_GRAY2BGR)\n",
    "lines = cv2.HoughLines(dst, 1, np.pi/180, 150, None, 0,0)\n",
    "line_points = []\n",
    "if lines is not None:\n",
    "       for i in range(0, len(lines)):\n",
    "            rho = lines[i][0][0]\n",
    "            theta = lines[i][0][1]\n",
    "            a = math.cos(theta)\n",
    "            b = math.sin(theta)\n",
    "            x0 = a * rho\n",
    "            y0 = b * rho\n",
    "            pt1 = (int(x0 + 1000*(-b)), int(y0 + 1000*(a)))\n",
    "            pt2 = (int(x0 - 1000*(-b)), int(y0 - 1000*(a)))\n",
    "            line_points.append([pt1, pt2])\n",
    "            cv2.line(cdst, pt1, pt2, (0,0,255), 1, cv2.LINE_AA)\n",
    "cv2.imwrite(\"roi.png\", roi)\n",
    "plt.imshow(cdst)\n",
    "\n",
    "\n",
    "#Probabilistic Hough Line\n",
    "# edges = cv2.Canny(roi, 50, 150, apertureSize=3)\n",
    "# linesP = cv2.HoughLinesP(edges, 1, np.pi/180, 50, 100, 2)\n",
    "# if linesP is not None:\n",
    "#    for i in range(0, len(linesP)):\n",
    "#        l = linesP[i][0]\n",
    "#        cv2.line(roi, (l[0], l[1]), (l[2], l[3]), (255,0,0), 2, cv2.LINE_AA)\n",
    "# plt.imshow(roi)"
   ]
  },
  {
   "cell_type": "code",
   "execution_count": 34,
   "id": "9b0de18f",
   "metadata": {},
   "outputs": [
    {
     "name": "stdout",
     "output_type": "stream",
     "text": [
      "Looking for C:\\Users\\METE\\.keras-ocr\\craft_mlt_25k.h5\n",
      "Looking for C:\\Users\\METE\\.keras-ocr\\crnn_kurapan.h5\n",
      "1/1 [==============================] - 0s 287ms/step\n",
      "1/1 [==============================] - 1s 1s/step\n",
      "[('216', array([[115.,  30.],\n",
      "       [138.,  30.],\n",
      "       [138.,  42.],\n",
      "       [115.,  42.]], dtype=float32)), ('26', array([[236.,  51.],\n",
      "       [251.,  51.],\n",
      "       [251.,  62.],\n",
      "       [236.,  62.]], dtype=float32)), ('432', array([[234., 250.],\n",
      "       [255., 250.],\n",
      "       [255., 261.],\n",
      "       [234., 261.]], dtype=float32)), ('f', array([[142., 251.],\n",
      "       [152., 251.],\n",
      "       [152., 262.],\n",
      "       [142., 262.]], dtype=float32)), ('22', array([[157., 251.],\n",
      "       [174., 251.],\n",
      "       [174., 263.],\n",
      "       [157., 263.]], dtype=float32)), ('26', array([[238., 459.],\n",
      "       [253., 459.],\n",
      "       [253., 470.],\n",
      "       [238., 470.]], dtype=float32))]\n"
     ]
    },
    {
     "data": {
      "image/png": "[encoded data removed]",
      "text/plain": [
       "<Figure size 640x480 with 1 Axes>"
      ]
     },
     "metadata": {},
     "output_type": "display_data"
    }
   ],
   "source": [
    "import keras_ocr\n",
    "roi_path = os.path.join(main_path, \"roi.png\")\n",
    "pipeline = keras_ocr.pipeline.Pipeline()\n",
    "image = keras_ocr.tools.read(roi_path)\n",
    "prediction = pipeline.recognize([image])[0]\n",
    "print(prediction)\n",
    "boxes = [value[1] for value in prediction]\n",
    "canvas = keras_ocr.tools.drawBoxes(image=image, boxes=boxes, color=(255, 0, 0), thickness=1)\n",
    "plt.imshow(canvas)\n",
    "plt.show()"
   ]
  },
  {
   "cell_type": "code",
   "execution_count": 39,
   "id": "943e3fc1",
   "metadata": {},
   "outputs": [
    {
     "name": "stdout",
     "output_type": "stream",
     "text": [
      "[[126, 36, '216'], [243, 56, '26'], [244, 255, '432'], [147, 256, 'f'], [165, 257, '22'], [245, 464, '26']]\n"
     ]
    }
   ],
   "source": [
    "annot_centers = []\n",
    "readings = [value[0] for value in prediction]\n",
    "value_center_list = []\n",
    "for box in boxes:\n",
    "    x_center = []\n",
    "    y_center = []\n",
    "    x_sum = 0\n",
    "    y_sum = 0\n",
    "    for point in box:\n",
    "        x_sum += point[0]\n",
    "        y_sum += point[1]\n",
    "    x_center = int(x_sum/4)\n",
    "    y_center = int(y_sum/4)\n",
    "    value_center_list.append([x_center, y_center])\n",
    "for i in range(len(value_center_list)):\n",
    "    value_center_list[i].append(readings[i])\n",
    "print(value_center_list)"
   ]
  },
  {
   "cell_type": "code",
   "execution_count": 40,
   "id": "2db7b5cd",
   "metadata": {},
   "outputs": [
    {
     "name": "stdout",
     "output_type": "stream",
     "text": [
      "[[(243, 1000), (243, -1000)], [(241, 1000), (241, -1000)], [(113, 1000), (113, -1000)], [(139, 1000), (139, -1000)], [(-1000, 42), (999, 43)], [(-1000, 476), (999, 477)], [(-1000, 68), (999, 69)], [(-1000, 450), (999, 451)], [(-1000, 34), (999, 35)], [(-1000, 36), (999, 37)]]\n"
     ]
    }
   ],
   "source": [
    "print(line_points)"
   ]
  },
  {
   "cell_type": "code",
   "execution_count": 41,
   "id": "24897f54",
   "metadata": {},
   "outputs": [
    {
     "name": "stdout",
     "output_type": "stream",
     "text": [
      "10\n",
      "488\n"
     ]
    }
   ],
   "source": [
    "print(len(line_points))\n",
    "print(roi.shape[0])"
   ]
  },
  {
   "cell_type": "code",
   "execution_count": 43,
   "id": "6ea42008",
   "metadata": {},
   "outputs": [
    {
     "name": "stdout",
     "output_type": "stream",
     "text": [
      "f is not an integer so it will be discarded\n",
      "22 216 26 26 432\n"
     ]
    }
   ],
   "source": [
    "for center in value_center_list:\n",
    "    try:\n",
    "        center[2] = int(center[2])\n",
    "    except:\n",
    "        print(center[2], \"is not an integer so it will be discarded\")\n",
    "        continue\n",
    "    if roi.shape[1]*0.25 < center[0] < roi.shape[1] * 0.75:\n",
    "        if roi.shape[0]*0.25 < center[1] < roi.shape[0] * 0.75:\n",
    "            t_web = int(center[2])\n",
    "        else:\n",
    "            b_flange = int(center[2])\n",
    "    else:\n",
    "        if  center[0] > roi.shape[1]*0.25:\n",
    "            top_t_flange = int(center[2])\n",
    "        elif roi.shape[0]*0.75 > center[1]:\n",
    "            bottom_t_flange = int(center[2])\n",
    "        else:\n",
    "            h_web = int(center[2])\n",
    "            \n",
    "print(t_web, b_flange, top_t_flange, bottom_t_flange, h_web)"
   ]
  },
  {
   "cell_type": "code",
   "execution_count": 45,
   "id": "f2c4c5be",
   "metadata": {},
   "outputs": [
    {
     "name": "stdout",
     "output_type": "stream",
     "text": [
      "737456256.0\n"
     ]
    }
   ],
   "source": [
    "# Moment of inertia calculations\n",
    "total_shape_area = (t_web*h_web) + (top_t_flange * b_flange) + (bottom_t_flange * b_flange)\n",
    "# Datum assumed as top left of the shape\n",
    "# Strong axis will be taken as x axis, so week axis will be y axis\n",
    "area_moments_x = (top_t_flange * b_flange) * (top_t_flange/2) + (t_web*h_web)*(h_web/2 + top_t_flange)+ (bottom_t_flange * b_flange) * (top_t_flange + h_web + bottom_t_flange/2)\n",
    "center_of_gravity_x = area_moments_x / total_shape_area\n",
    "area_moments_y = (top_t_flange * b_flange) * (b_flange/2) + (t_web*h_web)*(b_flange/2)+ (bottom_t_flange * b_flange) * (b_flange/2)\n",
    "center_of_gravity_y = area_moments_y / total_shape_area\n",
    "# These values are obvious for symmetrical shapes, but just for different cases these should be calculated\n",
    "moment_of_inertia_x = (1/12) * b_flange * top_t_flange**3 + (top_t_flange * b_flange) * (center_of_gravity_x - top_t_flange/2)**2 + (1/12)* t_web * h_web**3 + (t_web * h_web) * (center_of_gravity_x - (top_t_flange + h_web/2))**2 + (1/12) * b_flange * bottom_t_flange**3 + (b_flange * bottom_t_flange) * ((top_t_flange + h_web + bottom_t_flange/2) - center_of_gravity_x)**2\n",
    "print(moment_of_inertia_x)"
   ]
  },
  {
   "cell_type": "code",
   "execution_count": null,
   "id": "f759d871",
   "metadata": {},
   "outputs": [],
   "source": []
  },
  {
   "cell_type": "code",
   "execution_count": null,
   "id": "f1607c5e",
   "metadata": {},
   "outputs": [],
   "source": []
  }
 ],
 "metadata": {
  "kernelspec": {
   "display_name": "Python 3 (ipykernel)",
   "language": "python",
   "name": "python3"
  },
  "language_info": {
   "codemirror_mode": {
    "name": "ipython",
    "version": 3
   },
   "file_extension": ".py",
   "mimetype": "text/x-python",
   "name": "python",
   "nbconvert_exporter": "python",
   "pygments_lexer": "ipython3",
   "version": "3.9.15"
  }
 },
 "nbformat": 4,
 "nbformat_minor": 5
}
